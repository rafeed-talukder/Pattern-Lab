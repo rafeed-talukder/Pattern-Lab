{
 "cells": [
  {
   "cell_type": "code",
   "execution_count": 3,
   "metadata": {},
   "outputs": [
    {
     "name": "stdout",
     "output_type": "stream",
     "text": [
      "Enter size of the list: \t5\n",
      "Enter the element: \t10\n",
      "Enter the element: \t5\n",
      "Enter the element: \t5\n",
      "Enter the element: \t7\n",
      "Enter the element: \t8\n",
      "[5, 5, 7, 8, 10]\n"
     ]
    }
   ],
   "source": [
    "def bubble_sort(sort_list):\n",
    "    for j in range(len(sort_list)):\n",
    "        for k in range(len(sort_list) - 1):\n",
    "            if sort_list[k] > sort_list[k + 1]:\n",
    "                sort_list[k], sort_list[k + 1] = sort_list[k + 1], sort_list[k]\n",
    "    print(sort_list)\n",
    " \n",
    " \n",
    "lst = []\n",
    "size = int(input(\"Enter size of the list: \\t\"))\n",
    " \n",
    "for i in range(size):\n",
    "    elements = int(input(\"Enter the element: \\t\"))\n",
    "    lst.append(elements)\n",
    " \n",
    "bubble_sort(lst)"
   ]
  },
  {
   "cell_type": "code",
   "execution_count": null,
   "metadata": {},
   "outputs": [],
   "source": []
  }
 ],
 "metadata": {
  "kernelspec": {
   "display_name": "Python 3",
   "language": "python",
   "name": "python3"
  },
  "language_info": {
   "codemirror_mode": {
    "name": "ipython",
    "version": 3
   },
   "file_extension": ".py",
   "mimetype": "text/x-python",
   "name": "python",
   "nbconvert_exporter": "python",
   "pygments_lexer": "ipython3",
   "version": "3.6.4"
  }
 },
 "nbformat": 4,
 "nbformat_minor": 2
}
