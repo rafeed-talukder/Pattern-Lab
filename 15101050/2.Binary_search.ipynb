{
 "cells": [
  {
   "cell_type": "code",
   "execution_count": 1,
   "metadata": {},
   "outputs": [
    {
     "name": "stdout",
     "output_type": "stream",
     "text": [
      "False\n",
      "True\n"
     ]
    }
   ],
   "source": [
    "def binarySearch(alist, item):\n",
    "    first = 0\n",
    "    last = len(alist)-1\n",
    "    found = False\n",
    "\n",
    "    while first<=last and not found:\n",
    "        midpoint = (first + last)//2\n",
    "        if alist[midpoint] == item:\n",
    "            found = True\n",
    "        else:\n",
    "            if item < alist[midpoint]:\n",
    "                last = midpoint-1\n",
    "            else:\n",
    "                first = midpoint+1\n",
    "\n",
    "    return found\n",
    "\n",
    "testlist = [0, 1, 2, 8, 13, 17, 19, 32, 42,]\n",
    "\n",
    "print(binarySearch(testlist, 3))\n",
    "print(binarySearch(testlist, 13))\n"
   ]
  },
  {
   "cell_type": "code",
   "execution_count": null,
   "metadata": {},
   "outputs": [],
   "source": []
  }
 ],
 "metadata": {
  "kernelspec": {
   "display_name": "Python 3",
   "language": "python",
   "name": "python3"
  },
  "language_info": {
   "codemirror_mode": {
    "name": "ipython",
    "version": 3
   },
   "file_extension": ".py",
   "mimetype": "text/x-python",
   "name": "python",
   "nbconvert_exporter": "python",
   "pygments_lexer": "ipython3",
   "version": "3.6.4"
  }
 },
 "nbformat": 4,
 "nbformat_minor": 2
}
